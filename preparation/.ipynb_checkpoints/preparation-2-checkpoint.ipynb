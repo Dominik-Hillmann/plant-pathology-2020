{
 "cells": [
  {
   "cell_type": "markdown",
   "metadata": {},
   "source": [
    "# Preparation 2\n",
    "Things I need to change since I was not able to clearly overfit, which is only the first step.\n",
    "* [ ] Check whether the data from preparation still has the corresponding labels (I feel like this might be source of ehy the network does not learn, if this was not done correctly)\n",
    "* [ ] Get more data via data augmentation\n",
    "    * Rotation\n",
    "    * Zoom\n",
    "    * Mirror\n",
    "* [ ] Unskewed distribution of classes by inserting more augmented images from the smaller classes\n"
   ]
  }
 ],
 "metadata": {
  "kernelspec": {
   "display_name": "Python 3.7.6 64-bit ('pytorch': conda)",
   "language": "python",
   "name": "python37664bitpytorchconda29b6e46b7499411097b0682ab719f44a"
  },
  "language_info": {
   "codemirror_mode": {
    "name": "ipython",
    "version": 3
   },
   "file_extension": ".py",
   "mimetype": "text/x-python",
   "name": "python",
   "nbconvert_exporter": "python",
   "pygments_lexer": "ipython3",
   "version": "3.7.6"
  }
 },
 "nbformat": 4,
 "nbformat_minor": 2
}
